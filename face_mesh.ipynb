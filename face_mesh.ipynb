{
 "cells": [
  {
   "cell_type": "code",
   "execution_count": 1,
   "id": "4656a9cf-e74a-44ed-9ced-bded32c767a4",
   "metadata": {},
   "outputs": [],
   "source": [
    "import cv2\n",
    "import time\n",
    "import mediapipe as mp"
   ]
  },
  {
   "cell_type": "code",
   "execution_count": 13,
   "id": "e2c7f63f-a7cf-45b7-93d4-66308c8638b3",
   "metadata": {
    "tags": []
   },
   "outputs": [],
   "source": [
    "video = cv2.VideoCapture(0)\n",
    "\n",
    "mpFaceMesh = mp.solutions.face_mesh\n",
    "faceMesh = mpFaceMesh.FaceMesh()\n",
    "drawing = mp.solutions.drawing_utils\n",
    "drawSpec = drawing.DrawingSpec(thickness=1, circle_radius=1)\n",
    "\n",
    "while True:\n",
    "    retval, img = video.read()\n",
    "    if not retval:\n",
    "        break\n",
    "\n",
    "    landmarkList = []\n",
    "    results = faceMesh.process(image=img)\n",
    "    if results.multi_face_landmarks:\n",
    "        for landmarks in results.multi_face_landmarks:\n",
    "            drawing.draw_landmarks(image=img,\n",
    "                                   landmark_list=landmarks,\n",
    "                                   connections=mpFaceMesh.FACEMESH_TESSELATION,\n",
    "                                   landmark_drawing_spec=drawSpec)\n",
    "\n",
    "            for id, landmark in enumerate(landmarks.landmark):\n",
    "                height, width, color = img.shape\n",
    "                cx, cy = int(landmark.x * width), int(landmark.y * height)\n",
    "                landmarkList.append([id, cx, cy])\n",
    "\n",
    "            \n",
    "\n",
    "    img = cv2.flip(src=img, flipCode=1)\n",
    "    cv2.imshow(winname=\"Video\", mat=img)\n",
    "    if cv2.waitKey(10) == ord(\"q\"):\n",
    "        break\n",
    "\n",
    "video.release()\n",
    "cv2.destroyAllWindows()"
   ]
  },
  {
   "cell_type": "code",
   "execution_count": null,
   "id": "ed112125-2185-4a52-9f24-51cfd39bc67a",
   "metadata": {},
   "outputs": [],
   "source": []
  }
 ],
 "metadata": {
  "kernelspec": {
   "display_name": "Python 3 (ipykernel)",
   "language": "python",
   "name": "python3"
  },
  "language_info": {
   "codemirror_mode": {
    "name": "ipython",
    "version": 3
   },
   "file_extension": ".py",
   "mimetype": "text/x-python",
   "name": "python",
   "nbconvert_exporter": "python",
   "pygments_lexer": "ipython3",
   "version": "3.9.12"
  }
 },
 "nbformat": 4,
 "nbformat_minor": 5
}
